{
 "metadata": {
  "language": "Julia",
  "name": "",
  "signature": "sha256:3bf47246ae07bead2cf5cbb3949bdda14d75ca43392115c4d869dbaed167cfc9"
 },
 "nbformat": 3,
 "nbformat_minor": 0,
 "worksheets": [
  {
   "cells": [
    {
     "cell_type": "code",
     "collapsed": false,
     "input": [
      "function H_compute(x,xi,N)\n",
      "    # Compute the vector of basis function for a given\n",
      "    # location, x, nodal point, xi, and order, N\n",
      "\n",
      "    H = zeros(N+1)\n",
      "\n",
      "    for i = 1:N+1\n",
      "        H[i] = (x - xi)^(i-1)\n",
      "    end\n",
      "\n",
      "    return H\n",
      "\n",
      "end"
     ],
     "language": "python",
     "metadata": {},
     "outputs": [
      {
       "metadata": {},
       "output_type": "pyout",
       "prompt_number": 17,
       "text": [
        "H_compute (generic function with 1 method)"
       ]
      }
     ],
     "prompt_number": 17
    },
    {
     "cell_type": "code",
     "collapsed": false,
     "input": [
      "function phi_a(x,xi,a)\n",
      "    # Compute the kernel value using the cubic spline \n",
      "    # kernel function\n",
      "    \n",
      "    z = abs((x-xi)/a) # abs was a typo (excluded) from the '96 paper\n",
      "    \n",
      "    if abs(z) <= 0.5\n",
      "        phi_z = 2./3. - 4.*z^2. + 4.*z^3.\n",
      "    elseif abs(z) <= 1.\n",
      "        phi_z = 4./3. - 4.*z + 4.z^2. - (4./3.)*z^3.\n",
      "    else\n",
      "        phi_z = 0.\n",
      "    end\n",
      "    \n",
      "    return phi_z\n",
      "    \n",
      "end"
     ],
     "language": "python",
     "metadata": {},
     "outputs": [
      {
       "metadata": {},
       "output_type": "pyout",
       "prompt_number": 18,
       "text": [
        "phi_a (generic function with 1 method)"
       ]
      }
     ],
     "prompt_number": 18
    },
    {
     "cell_type": "code",
     "collapsed": false,
     "input": [
      "function shape_functions(x,xi,N,a)\n",
      "    \n",
      "    M = zeros(N+1,N+1,length(x))\n",
      "    psi = zeros(length(x),length(xi))\n",
      "    H_0 = H_compute(1.,1.,N)\n",
      "\n",
      "    for j=1:length(x)\n",
      "        for i=1:length(xi)\n",
      "            H = H_compute(x[j],xi[i],N)\n",
      "            phi = phi_a(x[j],xi[i],a)\n",
      "            M[:,:,j] = M[:,:,j] + H * H' * phi\n",
      "        end\n",
      "        for i=1:length(xi)\n",
      "            H = H_compute(x[j],xi[i],N)\n",
      "            phi = phi_a(x[j],xi[i],a)\n",
      "            psi[j,i]  = (H_0' * M[:,:,j]^-1 * H * phi)[1]\n",
      "        end\n",
      "    end\n",
      "    \n",
      "    return psi\n",
      "\n",
      "end"
     ],
     "language": "python",
     "metadata": {},
     "outputs": [
      {
       "metadata": {},
       "output_type": "pyout",
       "prompt_number": 19,
       "text": [
        "shape_functions (generic function with 1 method)"
       ]
      }
     ],
     "prompt_number": 19
    },
    {
     "cell_type": "code",
     "collapsed": false,
     "input": [
      "function reproduce_u(psi,u)\n",
      "    \n",
      "    u_a = zeros(size(psi,1))\n",
      "    \n",
      "    for i=1:size(psi,1)\n",
      "        u_a[i] = sum(psi[i,:]*u)\n",
      "    end\n",
      "    \n",
      "    return u_a\n",
      "end"
     ],
     "language": "python",
     "metadata": {},
     "outputs": [
      {
       "metadata": {},
       "output_type": "pyout",
       "prompt_number": 20,
       "text": [
        "reproduce_u (generic function with 1 method)"
       ]
      }
     ],
     "prompt_number": 20
    },
    {
     "cell_type": "code",
     "collapsed": false,
     "input": [
      "N = 1   # Order of basis functions\n",
      "a = 0.21 # Support size\n",
      "\n",
      "x = [0.005:0.01:1.]  # Evaluation points\n",
      "xi = [0.:0.1:1.]      # Nodal Points\n",
      "\n",
      "psi = shape_functions(x,xi,N,a)\n",
      "\n",
      "# Input function (at nodal points)\n",
      "#u=ones(length(xi))\n",
      "u=zeros(length(xi))\n",
      "for i=1:length(xi)\n",
      "    u[i]=(xi[i]/xi[end])^2.\n",
      "end\n",
      "\n",
      "u_a = reproduce_u(psi,u)\n",
      "\n",
      "using PyPlot\n",
      "plot(xi,u,label=\"in\")\n",
      "plot(x,u_a,\"gx\",label=\"out\")\n",
      "legend(loc=\"upper left\")"
     ],
     "language": "python",
     "metadata": {},
     "outputs": [
      {
       "metadata": {},
       "output_type": "display_data",
       "png": "[encoded data removed]",
       "text": [
        "Figure(PyObject <matplotlib.figure.Figure object at 0x110b48f50>)"
       ]
      },
      {
       "metadata": {},
       "output_type": "pyout",
       "prompt_number": 23,
       "text": [
        "PyObject <matplotlib.legend.Legend object at 0x110db4490>"
       ]
      }
     ],
     "prompt_number": 23
    },
    {
     "cell_type": "code",
     "collapsed": false,
     "input": [],
     "language": "python",
     "metadata": {},
     "outputs": []
    }
   ],
   "metadata": {}
  }
 ]
}